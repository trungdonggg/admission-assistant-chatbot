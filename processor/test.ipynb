{
 "cells": [
  {
   "cell_type": "code",
   "execution_count": 1,
   "metadata": {},
   "outputs": [],
   "source": [
    "from pydantic import BaseModel\n",
    "from typing import List, Dict, Literal\n",
    "import httpx\n",
    "\n",
    "\n",
    "class QueryVectorDatabase(BaseModel):\n",
    "    collection_name: Literal[\n",
    "    \"thong_tin_truong_dai_hoc\",   # thông tin về trường đại học\n",
    "    \"thong_tin_khoa_cong_nghe_thong_tin\",  # thông tin về khoa công nghệ thông tin\n",
    "    \"thong_tin_khoa_ngon_ngu\",  # thông tin về khoa ngôn ngữ\n",
    "    \"thong_tin_khoa_kinh_te\",  # thông tin về khoa kinh tế\n",
    "    \"thong_tin_khoa_y\",  # thông tin về khoa y\n",
    "    \"thong_tin_khoa_cong_nghe_sinh_hoc\",  # thông tin về khoa công nghệ sinh học\n",
    "    \"thong_tin_khoa_dieu_duong\",  # thông tin về khoa điều dưỡng\n",
    "    \"thong_tin_khoa_khai_phong\",  # thông tin về khoa khai phóng\n",
    "    \"thong_tin_giang_vien\",    # thông tin về giảng viên\n",
    "    \"thong_tin_nghien_cuu\",     # thông tin về nghiên cứu\n",
    "    \"thong_tin_chi_phi\",     # thông tin về tất cả chi phí (học phí, nợ môn, thi lại, v.v.)\n",
    "    ]\n",
    "    content: str \n",
    "    vector: List[float]\n",
    "    limit: int\n",
    "\n",
    "vectordb_api_host = '0.0.0.0'\n",
    "vectordb_api_port = '8000'\n",
    "async def query_vectordb(request: QueryVectorDatabase):\n",
    "    url = f\"http://{vectordb_api_host}:{vectordb_api_port}/retriever/query\"\n",
    "    \n",
    "    payload = request.model_dump()\n",
    "    \n",
    "    headers = {\n",
    "        'Content-Type': 'application/json'\n",
    "    }\n",
    "    \n",
    "    async with httpx.AsyncClient() as client:\n",
    "        timeout = httpx.Timeout(connect=5.0, read=60.0, write=10.0, pool=10.0)\n",
    "        response = await client.post(url, headers=headers, json=payload, timeout=timeout)\n",
    "        response.raise_for_status()\n",
    "    \n",
    "    return response.json()"
   ]
  },
  {
   "cell_type": "code",
   "execution_count": 2,
   "metadata": {},
   "outputs": [],
   "source": [
    "from langchain_core.tools import tool\n",
    "\n",
    "\n",
    "@tool\n",
    "async def search_at_thong_tin_truong_dai_hoc(query: str, vector: List[float]) -> Dict:\n",
    "    \"\"\"\n",
    "    Search for relevant documents in the \"thong_tin_truong_dai_hoc\" collection using a query string and a vector.\n",
    "\n",
    "    Args:\n",
    "        query (str): The textual query to search for within the collection.\n",
    "        vector (List[float]): The vector representation of the query for vector-based search.\n",
    "\n",
    "    Returns:\n",
    "        Dict: The search results retrieved from the vector database, containing relevant documents.\n",
    "    \"\"\"\n",
    "    return await query_vectordb(QueryVectorDatabase(collection_name=\"thong_tin_truong_dai_hoc\", content=query, vector=vector, limit=7))\n"
   ]
  },
  {
   "cell_type": "code",
   "execution_count": null,
   "metadata": {},
   "outputs": [],
   "source": []
  }
 ],
 "metadata": {
  "kernelspec": {
   "display_name": "base",
   "language": "python",
   "name": "python3"
  },
  "language_info": {
   "codemirror_mode": {
    "name": "ipython",
    "version": 3
   },
   "file_extension": ".py",
   "mimetype": "text/x-python",
   "name": "python",
   "nbconvert_exporter": "python",
   "pygments_lexer": "ipython3",
   "version": "3.11.4"
  }
 },
 "nbformat": 4,
 "nbformat_minor": 2
}
